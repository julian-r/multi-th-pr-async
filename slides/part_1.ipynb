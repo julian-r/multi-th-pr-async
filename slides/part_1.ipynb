{
 "cells": [
  {
   "cell_type": "markdown",
   "metadata": {
    "slideshow": {
     "slide_type": "skip"
    }
   },
   "source": [
    "# Multithreading, Multiprocessing und (AsyncIO) Co-Routines\n",
    "## und was macht da eigentlich das Betriebsystem?!?\n"
   ]
  },
  {
   "cell_type": "code",
   "execution_count": null,
   "metadata": {},
   "outputs": [],
   "source": []
  },
  {
   "cell_type": "markdown",
   "metadata": {
    "slideshow": {
     "slide_type": "slide"
    }
   },
   "source": [
    "# Motivation\n",
    "\n",
    " - Performance?\n",
    "      - Was ist da performance eigentlich?\n",
    "          - Python als kleber\n",
    "          - Rechenintensive Sachen werden eh mit anderen Technologien gelöst (`numpy`, `opencv`...)\n",
    "      - Skalierbarkeit (z.B. viele Netzwerkverbindungen)\n",
    "  "
   ]
  },
  {
   "cell_type": "markdown",
   "metadata": {
    "slideshow": {
     "slide_type": "slide"
    }
   },
   "source": [
    "# Begriffe\n",
    "\n",
    "- Nebenläufigkeit / Concurrency\n",
    "- Paralellisierung / Paralelissm\n",
    "\n",
    "\n",
    "<img src=\"https://files.realpython.com/media/Screen_Shot_2018-10-17_at_3.18.44_PM.c02792872031.jpg\" >\n",
    "\n"
   ]
  },
  {
   "cell_type": "markdown",
   "metadata": {
    "slideshow": {
     "slide_type": "slide"
    }
   },
   "source": [
    "# Threads, Prozesse, Userspace Threads/Coroutines\n",
    " - Sind wege um Nebenläufigkeit zu verwenden\n",
    " - Schedular"
   ]
  },
  {
   "cell_type": "markdown",
   "metadata": {
    "slideshow": {
     "slide_type": "subslide"
    }
   },
   "source": [
    "# Prozesse\n",
    " - Jeder Prozess sein eigener Heap\n",
    " - Wenn datenaustausch notwendig, dann aufwendiger\n",
    " - OS-Level Context Switching\n",
    "\n",
    "    "
   ]
  },
  {
   "cell_type": "markdown",
   "metadata": {
    "slideshow": {
     "slide_type": "subslide"
    }
   },
   "source": [
    "## Kernel Threads\n",
    "- Leichtgewichtiger als process\n",
    "- Geteilter Heap Speicher\n",
    "- Jeder thread sein eigener Stack\n",
    "- OS-Level Context Switching\n"
   ]
  },
  {
   "cell_type": "markdown",
   "metadata": {
    "slideshow": {
     "slide_type": "subslide"
    }
   },
   "source": [
    "## Context-Switiching?\n",
    " - Ein Interrupt oder Syscall wechselt in den Kernel\n",
    " - Der aktuelle CPU-State wird gespeichert\n",
    " - Ein neuer Prozess/Thread wird vom Scheduler ausgesucht\n",
    " - Der CPU state wird wieder geladen\n",
    " - Wechsel in den Userspace\n",
    " \n",
    " - Benoetigt Zeit [3] (etwa 1-2 us)\n",
    "     - Eine Python iteration braucht (~15ns) `1+1`\n",
    "     - Wichtig? JA! (Aber es kommt drauf an...)\n",
    "     - 100000 Gleichzeitige Netzwerkverbindungen... 0.1-0.2s!\n",
    " - Unterschiedlicher Speicher\n",
    "     - Verursacht cache misses\n",
    " - Worst case es wechselt der CPU Kern, dann kann gar kein Cache mehr verwendet werden.\n",
    " \n"
   ]
  },
  {
   "cell_type": "markdown",
   "metadata": {
    "slideshow": {
     "slide_type": "subslide"
    }
   },
   "source": [
    "# Co-Routines\n",
    " - Alternative: der user Prozess entscheided wann er unterbrochen werden kann\n",
    " - Funktionen die unterbrochen werden koennen\n",
    " - ... und dann wieder weiterlaufen koennen."
   ]
  },
  {
   "cell_type": "markdown",
   "metadata": {
    "slideshow": {
     "slide_type": "slide"
    }
   },
   "source": [
    "# Was heisst das jetzt in Python?\n",
    " - `multithreading` -> Nebenlaeufkeit aber keine Paralellisierung (GIL)\n",
    " - `multiprocessing` -> Nebenlaeufigkeit und Paralellisierung\n",
    " - `co-routines` -> Userspace \"threads\" "
   ]
  },
  {
   "cell_type": "markdown",
   "metadata": {
    "slideshow": {
     "slide_type": "subslide"
    }
   },
   "source": [
    "## GIL\n",
    " - Eine VM-Instruktion gleichzeitig\n",
    " - Vorteil: teilweise atomar\n",
    " - Nachteil: Multiprocessorsysteme haben keinen Vorteil"
   ]
  },
  {
   "cell_type": "markdown",
   "metadata": {
    "slideshow": {
     "slide_type": "subslide"
    }
   },
   "source": [
    "# Multithreading\n",
    "- wir teilen einen Heap\n",
    "- ein Stack pro Thread\n",
    "- Gut fuer einfache probleme mit *Nebenlaeufigkeit*\n",
    "- Schlecht wenn Multiprozessorsystem genutzt werden wollen\n",
    "- context switches"
   ]
  },
  {
   "cell_type": "markdown",
   "metadata": {
    "slideshow": {
     "slide_type": "subslide"
    }
   },
   "source": [
    "# Multiprocessing\n",
    "- Wir haben einen Heap pro Prozess\n",
    "- Gil kein Thema\n",
    "- Inter-Prozess-Kommunikation (IPC) is langsam\n",
    "- Kein geteilter Speicher, alles muss pickelbar sein\n",
    "- kontext wechsel"
   ]
  },
  {
   "cell_type": "markdown",
   "metadata": {
    "slideshow": {
     "slide_type": "subslide"
    }
   },
   "source": [
    "# Co-Routinen\n",
    "- Ungewohnt\n",
    "- Micro-threading\n",
    "- Weniger kontext wechsel\n",
    "- Fast kein locking!"
   ]
  },
  {
   "cell_type": "code",
   "execution_count": null,
   "metadata": {
    "slideshow": {
     "slide_type": "slide"
    }
   },
   "outputs": [],
   "source": [
    "# A try for a Benchmark on the python side"
   ]
  },
  {
   "cell_type": "code",
   "execution_count": 7,
   "metadata": {
    "slideshow": {
     "slide_type": "subslide"
    }
   },
   "outputs": [
    {
     "name": "stdout",
     "output_type": "stream",
     "text": [
      "local 0.22460610099915357\n",
      "threading 1.4975726880002185\n",
      "mp 6.013863459998902\n"
     ]
    }
   ],
   "source": [
    "# How much is a lock?\n",
    "\n",
    "from timeit import timeit\n",
    "import threading\n",
    "import multiprocessing\n",
    "\n",
    "def local():\n",
    "    lock = True\n",
    "    for _ in range(100):\n",
    "        lock = False\n",
    "        lock = True\n",
    "\n",
    "def thread():\n",
    "    lock = threading.Lock()\n",
    "    for _ in range(100):\n",
    "        lock.acquire()\n",
    "        lock.release()\n",
    "\n",
    "def mp():\n",
    "    lock = multiprocessing.Lock()\n",
    "    for _ in range(100):\n",
    "        lock.acquire()\n",
    "        lock.release()\n",
    "\n",
    "number = 100000\n",
    "print('local', timeit(local, number=number))\n",
    "print('threading', timeit(thread, number=number))\n",
    "print('mp', timeit(mp, number=number))"
   ]
  },
  {
   "cell_type": "code",
   "execution_count": 1,
   "metadata": {
    "slideshow": {
     "slide_type": "subslide"
    }
   },
   "outputs": [
    {
     "name": "stdout",
     "output_type": "stream",
     "text": [
      "local 0.0005302349964040332\n",
      "threading 0.5513019259960856\n",
      "mp 23.279445266998664\n"
     ]
    }
   ],
   "source": [
    "from timeit import timeit\n",
    "import threading\n",
    "import multiprocessing\n",
    "\n",
    "def target():\n",
    "    pass\n",
    "\n",
    "def local():\n",
    "    for _ in range(100):\n",
    "        target()\n",
    "\n",
    "def thread():\n",
    "    for _ in range(100):\n",
    "        threading.Thread(target=target).start()\n",
    "\n",
    "def mp():\n",
    "    for _ in range(100):\n",
    "        multiprocessing.Process(target=target).start()\n",
    "\n",
    "number = 100\n",
    "print('local', timeit(local, number=number))\n",
    "print('threading', timeit(thread, number=number))\n",
    "print('mp', timeit(mp, number=number))\n"
   ]
  },
  {
   "cell_type": "code",
   "execution_count": null,
   "metadata": {
    "slideshow": {
     "slide_type": "slide"
    }
   },
   "outputs": [],
   "source": [
    "# \"compute\" intense task\n",
    "\n",
    "from timeit import timeit\n",
    "from threading import Thread\n",
    "from multiprocessing import Process\n",
    "import asyncio\n",
    "\n",
    "COUNT = 1000000000\n",
    "\n",
    "\n",
    "def test(count):\n",
    "    print(\"test called\")\n",
    "    for i in range(count):\n",
    "        1 + 1\n",
    "\n",
    "\n",
    "def pure():\n",
    "    test(COUNT)\n",
    "\n",
    "\n",
    "def with_threading():\n",
    "    t1 = Thread(target=test, args=(COUNT // 2,))\n",
    "    t2 = Thread(target=test, args=(COUNT // 2,))\n",
    "    t1.start()\n",
    "    t2.start()\n",
    "    t1.join()\n",
    "    t2.join()\n",
    "\n",
    "\n",
    "def with_mp():\n",
    "    p1 = Process(target=test, args=(COUNT // 2,))\n",
    "    p2 = Process(target=test, args=(COUNT // 2,))\n",
    "    p1.start()\n",
    "    p2.start()\n",
    "    p1.join()\n",
    "    p2.join()\n",
    "\n",
    "\n",
    "async def test_wrapper(count):\n",
    "    return test(count)\n",
    "\n",
    "\n",
    "async def async_main():\n",
    "    asyncio.gather(test_wrapper(COUNT // 2), test_wrapper(COUNT // 2))\n",
    "\n",
    "\n",
    "def with_asyncio():\n",
    "    asyncio.run(async_main())\n",
    "\n",
    "\n",
    "if __name__ == \"__main__\":\n",
    "    print(\"threading\", timeit(with_threading, number=1))\n",
    "    print(\"mp\", timeit(with_mp, number=1))\n",
    "    print(\"pure\", timeit(pure, number=1))\n",
    "    print(\"aio\", timeit(with_asyncio, number=1))\n"
   ]
  },
  {
   "cell_type": "code",
   "execution_count": null,
   "metadata": {},
   "outputs": [],
   "source": []
  },
  {
   "cell_type": "markdown",
   "metadata": {
    "slideshow": {
     "slide_type": "slide"
    }
   },
   "source": [
    "# Und Jetzt?\n",
    "\n",
    " - `threading` ist super, weil einfach und man kennt das konzept\n",
    " - `multiprocessing` auch, aber wenn man mehr Berechnen wll\n",
    " - `asyncio` bzw greenlets sind super wenns um viel Netzwerkcode geht\n"
   ]
  },
  {
   "cell_type": "markdown",
   "metadata": {
    "slideshow": {
     "slide_type": "slide"
    }
   },
   "source": [
    " - [1]: http://axisofeval.blogspot.com/2010/11/numbers-everybody-should-know.html\n",
    " - [2]: https://eli.thegreenplace.net/2018/launching-linux-threads-and-processes-with-clone/\n",
    " - [3]: https://eli.thegreenplace.net/2018/measuring-context-switching-and-memory-overheads-for-linux-threads/\n",
    " - [4]: https://www.youtube.com/watch?v=KXuZi9aeGTw&feature=youtu.be\n",
    " "
   ]
  }
 ],
 "metadata": {
  "celltoolbar": "Slideshow",
  "kernelspec": {
   "display_name": "Python 3",
   "language": "python",
   "name": "python3"
  },
  "language_info": {
   "codemirror_mode": {
    "name": "ipython",
    "version": 3
   },
   "file_extension": ".py",
   "mimetype": "text/x-python",
   "name": "python",
   "nbconvert_exporter": "python",
   "pygments_lexer": "ipython3",
   "version": "3.7.3"
  }
 },
 "nbformat": 4,
 "nbformat_minor": 2
}
