{
 "cells": [
  {
   "cell_type": "markdown",
   "metadata": {
    "slideshow": {
     "slide_type": "slide"
    }
   },
   "source": [
    "# Multithreading, Multiprocessing und (AsyncIO) Co-Routines\n",
    "## und was macht da eigentlich das Betriebsystem?!?\n"
   ]
  },
  {
   "cell_type": "markdown",
   "metadata": {
    "slideshow": {
     "slide_type": "slide"
    }
   },
   "source": [
    "# Motivation\n",
    "\n",
    "- Betriebssysteme auf der TU\n",
    "- Long time ago: ein multi-cloud client\n",
    " - damals mit thread pools\n",
    "- Performance?\n",
    "  - Moores Law in Kernen(Transistoren) nicht in einzel CPU Power\n",
    "  - Skalierbarkeit (z.B. viele Netzwerkverbindungen)\n",
    "  "
   ]
  },
  {
   "cell_type": "markdown",
   "metadata": {
    "slideshow": {
     "slide_type": "slide"
    }
   },
   "source": [
    "# Begriffe\n",
    "\n",
    "- Nebenläufigkeit / Concurrency\n",
    "- Paralellisierung / Paralelissm\n",
    "\n",
    "\n",
    "<img src=\"https://files.realpython.com/media/Screen_Shot_2018-10-17_at_3.18.44_PM.c02792872031.jpg\" >\n",
    "\n"
   ]
  },
  {
   "cell_type": "markdown",
   "metadata": {
    "slideshow": {
     "slide_type": "slide"
    }
   },
   "source": [
    "# CPU und Multitasking/processing?\n",
    "\n",
    "- Prozesse koennen nur auf den eigenen Speicher zugreifen\n",
    "    - Pagetable/Speichervirtualisierung\n",
    "- Sicherheitsmodell (Ringe)\n",
    "    -Kernelspace hat mehr prvilegien als Userspace\n",
    "    - Bestimmte Instruktionen und Register(Parameter) koennen gesperrt werden (nur mehr im Kernelspace)\n"
   ]
  },
  {
   "cell_type": "markdown",
   "metadata": {
    "slideshow": {
     "slide_type": "slide"
    }
   },
   "source": [
    "# Threads, Prozesse, Userspace Threads/Coroutines\n",
    " - Sind Wege um Nebenläufigkeit zu verwenden\n",
    "     \n",
    " - Scheduler im OS\n",
    "     - Threads \n",
    "     - Prozesse\n",
    " - Scheduler im Userspace:\n",
    "     - Coroutinen -> forsetzbare funktionen"
   ]
  },
  {
   "cell_type": "markdown",
   "metadata": {
    "slideshow": {
     "slide_type": "subslide"
    }
   },
   "source": [
    "# Prozesse\n",
    " - Jeder Prozess sein eigener Heap\n",
    " - Prozessattribute\n",
    "     - Umgebungsvariablen\n",
    "     - PID\n",
    "     - Prio etc.\n",
    " - Eigenen Virtuellen Speicherbereich\n",
    " - Eigener Stack\n",
    " ```c\n",
    " void bla() {\n",
    "     int a=1; // <-- stack\n",
    " ```\n",
    " - Eigener Heap\n",
    " ```c\n",
    "int* xyc = malloc(1024); // <-- heap\n",
    " ```\n",
    " - Wenn Datenaustausch notwendig, dann Aufwendiger (shared memory)\n",
    " - Betriebssystem wechselt zwischen Prozessen\n",
    "\n",
    "    "
   ]
  },
  {
   "cell_type": "markdown",
   "metadata": {
    "slideshow": {
     "slide_type": "subslide"
    }
   },
   "source": [
    "## Kernel Threads\n",
    "- Pro Pozess -> N Threads\n",
    "- Leichtgewichtiger als Prozess\n",
    "- Geteilter Heap Speicher\n",
    "- Eigener Stack\n",
    "- Jeder Thread sein eigener Stack\n",
    "- OS-Level Context Switching\n"
   ]
  },
  {
   "cell_type": "markdown",
   "metadata": {
    "slideshow": {
     "slide_type": "subslide"
    }
   },
   "source": [
    "## Wechseln zwischen Threads und Prozessen\n",
    " 1. Ein Interrupt oder Syscall(zB. lesen eines Files) wechselt in den Kernel\n",
    " 1. Der aktuelle CPU-State wird gespeichert\n",
    " 1. Der Kernel State wieder geladen\n",
    " 1. Ein neuer Prozess/Thread wird vom Scheduler ausgesucht\n",
    " 1. Der Kernel State wierd wieder gespeichert\n",
    " 1. Der CPU state wird wieder geladen\n",
    " 1. Wechsel in den Userspace\n",
    " \n",
    " <img src=\"https://www.ibm.com/support/knowledgecenter/en/SSGU8G_12.1.0/com.ibm.admin.doc/admin013.gif\">\n"
   ]
  },
  {
   "cell_type": "markdown",
   "metadata": {
    "slideshow": {
     "slide_type": "subslide"
    }
   },
   "source": [
    " # Context switching Performance\n",
    "- Benoetigt Zeit [3] (etwa 1-2 us)\n",
    " - Eine Python iteration braucht (~15ns) `1+1`\n",
    " - Wichtig? JA! (Aber es kommt drauf an...)\n",
    " - 100.000 Gleichzeitige Threads... 0.1-0.2s!\n",
    "- Unterschiedlicher Speicher\n",
    " - Verursacht cache misses\n",
    "- Worst case es wechselt der CPU Kern, dann kann gar kein Cache mehr verwendet werden.\n",
    "\n",
    "<img src=\"https://www.adamh.cz/public/img/context-switch-on-the-arm-cortex-m0/os_intro.png\">\n",
    " "
   ]
  },
  {
   "cell_type": "markdown",
   "metadata": {
    "slideshow": {
     "slide_type": "subslide"
    }
   },
   "source": [
    "# Co-Routines\n",
    " - Alternative: der User Prozess entscheided wann er unterbrochen werden kann -> in Python Generatoren\n",
    " ```py\n",
    " def abc_generator():\n",
    "    yield(\"a\")\n",
    "    yield(\"b\")\n",
    "    yield(\"c\")\n",
    " ```\n",
    " - Funktionen die unterbrochen werden koennen\n",
    " - ... und dann wieder weiterlaufen koennen.\n",
    " - Vermutlich troztdem Cache misses (Vermutlich weniger)"
   ]
  },
  {
   "cell_type": "markdown",
   "metadata": {
    "slideshow": {
     "slide_type": "slide"
    }
   },
   "source": [
    "# Was heisst das jetzt in Python?\n",
    " - `threading` -> Nebenlaeufkeit aber keine Paralellisierung (GIL)\n",
    " - `multiprocessing` -> Nebenlaeufigkeit und Paralellisierung\n",
    " - `co-routines` -> Userspace \"threads\" -> `asyncio`, `greenlet`, `twisted` etc.."
   ]
  },
  {
   "cell_type": "markdown",
   "metadata": {
    "slideshow": {
     "slide_type": "subslide"
    }
   },
   "source": [
    "# Multithreading\n",
    "- wir teilen einen Heap\n",
    "- ein Stack pro Thread\n",
    "- Gut fuer einfache probleme mit *Nebenlaeufigkeit*\n",
    "- Schlecht wenn Multiprozessorsystem genutzt werden wollen\n",
    "- context switches"
   ]
  },
  {
   "cell_type": "markdown",
   "metadata": {
    "slideshow": {
     "slide_type": "subslide"
    }
   },
   "source": [
    "# Multiprocessing\n",
    "- Wir haben einen Heap pro Prozess\n",
    "- Gil kein Thema\n",
    "- Inter-Prozess-Kommunikation (IPC) is langsam\n",
    "- Kein geteilter Speicher, alles muss pickelbar sein\n",
    "- kontext wechsel"
   ]
  },
  {
   "cell_type": "markdown",
   "metadata": {
    "slideshow": {
     "slide_type": "subslide"
    }
   },
   "source": [
    "# Co-Routinen\n",
    "- Ungewohnt\n",
    "- Micro-threading\n",
    "- Weniger kontext wechsel\n",
    "- Fast kein locking!"
   ]
  },
  {
   "cell_type": "markdown",
   "metadata": {
    "slideshow": {
     "slide_type": "subslide"
    }
   },
   "source": [
    "## GIL\n",
    " - Eine VM-Instruktion gleichzeitig\n",
    " - Vorteil: teilweise atomar\n",
    " - Nachteil: Multiprocessorsysteme haben keinen Vorteil in einer Python Instanz"
   ]
  },
  {
   "cell_type": "code",
   "execution_count": null,
   "metadata": {
    "slideshow": {
     "slide_type": "slide"
    }
   },
   "outputs": [],
   "source": [
    "# A try for a Benchmark on the python side"
   ]
  },
  {
   "cell_type": "code",
   "execution_count": 7,
   "metadata": {
    "slideshow": {
     "slide_type": "subslide"
    }
   },
   "outputs": [
    {
     "name": "stdout",
     "output_type": "stream",
     "text": [
      "local 0.22460610099915357\n",
      "threading 1.4975726880002185\n",
      "mp 6.013863459998902\n"
     ]
    }
   ],
   "source": [
    "# How much is a lock?\n",
    "\n",
    "from timeit import timeit\n",
    "import threading\n",
    "import multiprocessing\n",
    "\n",
    "def local():\n",
    "    lock = True\n",
    "    for _ in range(100):\n",
    "        lock = False\n",
    "        lock = True\n",
    "\n",
    "def thread():\n",
    "    lock = threading.Lock()\n",
    "    for _ in range(100):\n",
    "        lock.acquire()\n",
    "        lock.release()\n",
    "\n",
    "def mp():\n",
    "    lock = multiprocessing.Lock()\n",
    "    for _ in range(100):\n",
    "        lock.acquire()\n",
    "        lock.release()\n",
    "\n",
    "number = 100000\n",
    "print('local', timeit(local, number=number))\n",
    "print('threading', timeit(thread, number=number))\n",
    "print('mp', timeit(mp, number=number))"
   ]
  },
  {
   "cell_type": "code",
   "execution_count": 1,
   "metadata": {
    "slideshow": {
     "slide_type": "subslide"
    }
   },
   "outputs": [
    {
     "name": "stdout",
     "output_type": "stream",
     "text": [
      "local 0.0005302349964040332\n",
      "threading 0.5513019259960856\n",
      "mp 23.279445266998664\n"
     ]
    }
   ],
   "source": [
    "from timeit import timeit\n",
    "import threading\n",
    "import multiprocessing\n",
    "\n",
    "def target():\n",
    "    pass\n",
    "\n",
    "def local():\n",
    "    for _ in range(100):\n",
    "        target()\n",
    "\n",
    "def thread():\n",
    "    for _ in range(100):\n",
    "        threading.Thread(target=target).start()\n",
    "\n",
    "def mp():\n",
    "    for _ in range(100):\n",
    "        multiprocessing.Process(target=target).start()\n",
    "\n",
    "number = 100\n",
    "print('local', timeit(local, number=number))\n",
    "print('threading', timeit(thread, number=number))\n",
    "print('mp', timeit(mp, number=number))\n"
   ]
  },
  {
   "cell_type": "code",
   "execution_count": null,
   "metadata": {
    "slideshow": {
     "slide_type": "subslide"
    }
   },
   "outputs": [],
   "source": [
    "# \"compute\" intense task\n",
    "\n",
    "from timeit import timeit\n",
    "from threading import Thread\n",
    "from multiprocessing import Process\n",
    "import asyncio\n",
    "\n",
    "COUNT = 1000000000\n",
    "\n",
    "\n",
    "def test(count):\n",
    "    print(\"test called\")\n",
    "    for i in range(count):\n",
    "        1 + 1\n",
    "\n",
    "\n",
    "def pure():\n",
    "    test(COUNT)\n",
    "\n",
    "\n",
    "def with_threading():\n",
    "    t1 = Thread(target=test, args=(COUNT // 2,))\n",
    "    t2 = Thread(target=test, args=(COUNT // 2,))\n",
    "    t1.start()\n",
    "    t2.start()\n",
    "    t1.join()\n",
    "    t2.join()\n",
    "\n",
    "\n",
    "def with_mp():\n",
    "    p1 = Process(target=test, args=(COUNT // 2,))\n",
    "    p2 = Process(target=test, args=(COUNT // 2,))\n",
    "    p1.start()\n",
    "    p2.start()\n",
    "    p1.join()\n",
    "    p2.join()\n",
    "\n",
    "\n",
    "async def test_wrapper(count):\n",
    "    return test(count)\n",
    "\n",
    "\n",
    "async def async_main():\n",
    "    asyncio.gather(test_wrapper(COUNT // 2), test_wrapper(COUNT // 2))\n",
    "\n",
    "\n",
    "def with_asyncio():\n",
    "    asyncio.run(async_main())\n",
    "\n",
    "\n",
    "if __name__ == \"__main__\":\n",
    "    print(\"threading\", timeit(with_threading, number=1))\n",
    "    print(\"mp\", timeit(with_mp, number=1))\n",
    "    print(\"pure\", timeit(pure, number=1))\n",
    "    print(\"aio\", timeit(with_asyncio, number=1))\n"
   ]
  },
  {
   "cell_type": "markdown",
   "metadata": {
    "slideshow": {
     "slide_type": "slide"
    }
   },
   "source": [
    "# Server/Client Beispiel"
   ]
  },
  {
   "cell_type": "markdown",
   "metadata": {
    "slideshow": {
     "slide_type": "slide"
    }
   },
   "source": [
    "# Und Jetzt?\n",
    "\n",
    " - `threading` ist super, weil einfach und man kennt das konzept\n",
    " - `multiprocessing` auch, aber wenn man mehr Berechnen wll\n",
    " - `asyncio` bzw greenlets sind super wenns um viel Netzwerkcode geht\n"
   ]
  },
  {
   "cell_type": "markdown",
   "metadata": {
    "slideshow": {
     "slide_type": "slide"
    }
   },
   "source": [
    " - [1]: http://axisofeval.blogspot.com/2010/11/numbers-everybody-should-know.html\n",
    " - [2]: https://eli.thegreenplace.net/2018/launching-linux-threads-and-processes-with-clone/\n",
    " - [3]: https://eli.thegreenplace.net/2018/measuring-context-switching-and-memory-overheads-for-linux-threads/\n",
    " - [4]: https://www.youtube.com/watch?v=KXuZi9aeGTw&feature=youtu.be\n",
    " "
   ]
  }
 ],
 "metadata": {
  "celltoolbar": "Slideshow",
  "kernelspec": {
   "display_name": "Python 3",
   "language": "python",
   "name": "python3"
  },
  "language_info": {
   "codemirror_mode": {
    "name": "ipython",
    "version": 3
   },
   "file_extension": ".py",
   "mimetype": "text/x-python",
   "name": "python",
   "nbconvert_exporter": "python",
   "pygments_lexer": "ipython3",
   "version": "3.7.3"
  }
 },
 "nbformat": 4,
 "nbformat_minor": 2
}
